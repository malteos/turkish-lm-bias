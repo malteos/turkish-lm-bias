{
 "cells": [
  {
   "cell_type": "code",
   "execution_count": 1,
   "metadata": {},
   "outputs": [],
   "source": [
    "import numpy \n",
    "import h5py"
   ]
  },
  {
   "cell_type": "code",
   "execution_count": 50,
   "metadata": {},
   "outputs": [
    {
     "name": "stdout",
     "output_type": "stream",
     "text": [
      "True\n",
      "Keys: <KeysViewHDF5 ['attr1', 'attr2', 'targ1', 'targ2']>\n",
      "ValuesViewHDF5(<Closed HDF5 group>)\n"
     ]
    }
   ],
   "source": [
    "\n",
    "with h5py.File('bert;version=bert-large-cased.weat7b.h5', 'r+') as f:\n",
    "    \n",
    "    print(f['attr1'].__bool__())\n",
    "    data = f.get('attr1').values()\n",
    "    \n",
    "    print(\"Keys: %s\" % f.keys())\n",
    "print(data)\n",
    "\n",
    "#print(data.shape)\n",
    "\n"
   ]
  },
  {
   "cell_type": "code",
   "execution_count": null,
   "metadata": {},
   "outputs": [],
   "source": []
  },
  {
   "cell_type": "code",
   "execution_count": null,
   "metadata": {},
   "outputs": [],
   "source": []
  },
  {
   "cell_type": "code",
   "execution_count": null,
   "metadata": {},
   "outputs": [],
   "source": []
  }
 ],
 "metadata": {
  "kernelspec": {
   "display_name": "Python 3",
   "language": "python",
   "name": "python3"
  },
  "language_info": {
   "codemirror_mode": {
    "name": "ipython",
    "version": 3
   },
   "file_extension": ".py",
   "mimetype": "text/x-python",
   "name": "python",
   "nbconvert_exporter": "python",
   "pygments_lexer": "ipython3",
   "version": "3.7.6"
  }
 },
 "nbformat": 4,
 "nbformat_minor": 4
}
